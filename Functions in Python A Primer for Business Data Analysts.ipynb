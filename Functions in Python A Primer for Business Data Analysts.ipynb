{
 "cells": [
  {
   "cell_type": "markdown",
   "id": "3cddad5c",
   "metadata": {},
   "source": [
    "# Functions in Python: A Primer for Business Data Analysts"
   ]
  },
  {
   "cell_type": "markdown",
   "id": "9be8489d",
   "metadata": {},
   "source": [
    "## Introduction\n",
    "### Functions are fundamental building blocks in Python programming. They allow you to encapsulate a specific task or calculation into a reusable block of code. This promotes modularity, reusability, and readability in your scripts.\n",
    "\n",
    "## Defining a Function\n",
    "### To define a function in Python, you use the def keyword followed by the function name and parentheses. Inside the parentheses, you can define parameters, which are variables that accept input values. The function's body is indented and contains the code that will be executed when the function is called."
   ]
  },
  {
   "cell_type": "code",
   "execution_count": null,
   "id": "4040b2ae",
   "metadata": {},
   "outputs": [],
   "source": [
    "def greet(name):\n",
    "  print(\"Hello, \" + name + \"!\")"
   ]
  },
  {
   "cell_type": "markdown",
   "id": "a8a04000",
   "metadata": {},
   "source": [
    "## Calling a Function\n",
    "### To execute a function, you simply call it by its name, followed by any necessary arguments:"
   ]
  },
  {
   "cell_type": "code",
   "execution_count": null,
   "id": "2d499e44",
   "metadata": {},
   "outputs": [],
   "source": [
    "greet(\"Imran\")  # Output: Hello, Imran!"
   ]
  },
  {
   "cell_type": "code",
   "execution_count": null,
   "id": "1219cd90",
   "metadata": {},
   "outputs": [],
   "source": [
    "greet(\"Imran\")  # Output: Hello, Imran!"
   ]
  },
  {
   "cell_type": "markdown",
   "id": "6e1eb5dc",
   "metadata": {},
   "source": [
    "## Function Parameters and Arguments\n",
    "### Parameters: These are the variables defined within the function's parentheses. They act as placeholders for values that will be passed to the function when it's called.\n",
    "### Arguments: These are the actual values passed to the function when it's called. They are assigned to the corresponding parameters."
   ]
  },
  {
   "cell_type": "code",
   "execution_count": null,
   "id": "03828542",
   "metadata": {},
   "outputs": [],
   "source": [
    "def calculate_area(length, width):\n",
    "  area = length * width\n",
    "  return area\n",
    "\n",
    "result = calculate_area(5, 3)\n",
    "print(result)  # Output: 15"
   ]
  },
  {
   "cell_type": "markdown",
   "id": "5968901e",
   "metadata": {},
   "source": [
    "## Return Statement\n",
    "### The return statement is used to specify the value that a function should return. Once the return statement is executed, the function terminates and the specified value is returned to the caller."
   ]
  },
  {
   "cell_type": "markdown",
   "id": "29da4f9d",
   "metadata": {},
   "source": [
    "## Practice Exercises\n",
    "\n",
    "### Simple Function:\n",
    "#### Create a function named greet_with_time that takes a name as input and prints a greeting message along with the current time.\n",
    "### Function with Multiple Parameters:\n",
    "#### Write a function called calculate_average that takes three numbers as input and returns their average.\n",
    "### Default Argument:\n",
    "#### Define a function calculate_discount that takes a price and a discount percentage as input. Set a default discount percentage of 10%.\n",
    "### Keyword Arguments:\n",
    "#### Create a function print_info that takes a name, age, and city as keyword arguments.\n",
    "### Variable-Length Arguments:\n",
    "#### Write a function find_max that can take any number of arguments and returns the maximum value.\n",
    "### Recursive Function:\n",
    "#### Implement a recursive function to calculate the factorial of a number.\n",
    "### Function as an Argument:\n",
    "#### Define a function apply_function that takes a function and a list of numbers as input. Apply the function to each number in the list and return a new list with the results.\n",
    "### Lambda Functions:\n",
    "#### Create a lambda function to square a number.\n",
    "### Higher-Order Functions:\n",
    "#### Write a function apply_operation that takes a function and a list of numbers. Apply the function to each number and return a new list.\n",
    "### Function Decorators:\n",
    "#### Implement a decorator to measure the execution time of a function."
   ]
  },
  {
   "cell_type": "code",
   "execution_count": null,
   "id": "49ebbbe0",
   "metadata": {},
   "outputs": [],
   "source": []
  }
 ],
 "metadata": {
  "kernelspec": {
   "display_name": "Python 3 (ipykernel)",
   "language": "python",
   "name": "python3"
  },
  "language_info": {
   "codemirror_mode": {
    "name": "ipython",
    "version": 3
   },
   "file_extension": ".py",
   "mimetype": "text/x-python",
   "name": "python",
   "nbconvert_exporter": "python",
   "pygments_lexer": "ipython3",
   "version": "3.11.3"
  }
 },
 "nbformat": 4,
 "nbformat_minor": 5
}
